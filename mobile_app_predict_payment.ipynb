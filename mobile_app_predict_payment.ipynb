{
 "cells": [
  {
   "cell_type": "code",
   "execution_count": 1,
   "metadata": {},
   "outputs": [],
   "source": [
    "import numpy as np\n",
    "import pandas as pd\n",
    "import itertools\n",
    "from matplotlib import pyplot as plt"
   ]
  },
  {
   "cell_type": "markdown",
   "metadata": {},
   "source": [
    "**The shared data contains only prepared data: `X_train`, `y_train`, `X_valid`, `y_valid`. To reproduce, execute the commented code below (first, uncomment it of course) and move to RF training (cell 13 or 14).**"
   ]
  },
  {
   "cell_type": "code",
   "execution_count": null,
   "metadata": {},
   "outputs": [],
   "source": [
    "# # how to read data\n",
    "# import pickle\n",
    "# with open('../../data/mobile_app_launches_sessions_payments.pkl', 'rb') as f:\n",
    "#     shared_data = pickle.load(f)\n",
    "# X_train, y_train = shared_data['X_train'], shared_data['y_train']\n",
    "# X_valid, y_valid = shared_data['X_valid'], shared_data['y_valid']"
   ]
  },
  {
   "cell_type": "code",
   "execution_count": 2,
   "metadata": {},
   "outputs": [],
   "source": [
    "df = pd.read_csv('../../data/mobile_app_launches_sessions_payments.csv.gz')"
   ]
  },
  {
   "cell_type": "code",
   "execution_count": 3,
   "metadata": {},
   "outputs": [
    {
     "data": {
      "text/plain": [
       "(1177829, 49)"
      ]
     },
     "execution_count": 3,
     "metadata": {},
     "output_type": "execute_result"
    }
   ],
   "source": [
    "df.shape"
   ]
  },
  {
   "cell_type": "code",
   "execution_count": 4,
   "metadata": {},
   "outputs": [
    {
     "data": {
      "text/plain": [
       "Index(['idfa', 'idfv', 'gaid', 'android_id', 'imei', 'waid', 'idDevice',\n",
       "       'idProfile', 'idApp', 'idCountry', 'idRegion', 'age', 'idGender', 'dt',\n",
       "       'launches1', 'launches2', 'launches3', 'launches4', 'launches5',\n",
       "       'launches6', 'launches7', 'launches8', 'sessions1', 'sessions2',\n",
       "       'sessions3', 'sessions4', 'sessions5', 'sessions6', 'sessions7',\n",
       "       'sessions8', 'num_payments1', 'num_payments2', 'num_payments3',\n",
       "       'num_payments4', 'num_payments5', 'num_payments6', 'num_payments7',\n",
       "       'num_payments8', 'sum_payments1', 'sum_payments2', 'sum_payments3',\n",
       "       'sum_payments4', 'sum_payments5', 'sum_payments6', 'sum_payments7',\n",
       "       'sum_payments8', 'ltvDay30', 'ltvDay60', 'ltvDay90'],\n",
       "      dtype='object')"
      ]
     },
     "execution_count": 4,
     "metadata": {},
     "output_type": "execute_result"
    }
   ],
   "source": [
    "df.columns"
   ]
  },
  {
   "cell_type": "code",
   "execution_count": 5,
   "metadata": {},
   "outputs": [
    {
     "data": {
      "text/plain": [
       "False    1108205\n",
       "True       69624\n",
       "Name: sum_payments8, dtype: int64"
      ]
     },
     "execution_count": 5,
     "metadata": {},
     "output_type": "execute_result"
    }
   ],
   "source": [
    "(df['sum_payments8'] > 0).value_counts()"
   ]
  },
  {
   "cell_type": "code",
   "execution_count": 6,
   "metadata": {},
   "outputs": [],
   "source": [
    "df.sort_values(by='dt', inplace=True)"
   ]
  },
  {
   "cell_type": "code",
   "execution_count": 7,
   "metadata": {},
   "outputs": [],
   "source": [
    "y = (df['ltvDay90'] > 0).astype('int')"
   ]
  },
  {
   "cell_type": "code",
   "execution_count": 8,
   "metadata": {},
   "outputs": [
    {
     "data": {
      "text/plain": [
       "0.07425356312333964"
      ]
     },
     "execution_count": 8,
     "metadata": {},
     "output_type": "execute_result"
    }
   ],
   "source": [
    "y.mean()"
   ]
  },
  {
   "cell_type": "code",
   "execution_count": 9,
   "metadata": {},
   "outputs": [],
   "source": [
    "sessions = ['sessions' + str(i) for i in range(1, 9)]\n",
    "launches = ['launches' + str(i) for i in range(1, 9)]\n",
    "num_payments = ['num_payments' + str(i) for i in range(1, 9)]\n",
    "sum_payments = ['sum_payments' + str(i) for i in range(1, 9)]"
   ]
  },
  {
   "cell_type": "code",
   "execution_count": 10,
   "metadata": {},
   "outputs": [],
   "source": [
    "X = df[sessions + launches + num_payments + sum_payments]"
   ]
  },
  {
   "cell_type": "code",
   "execution_count": 11,
   "metadata": {},
   "outputs": [
    {
     "data": {
      "text/plain": [
       "((1177829, 32), (1177829,))"
      ]
     },
     "execution_count": 11,
     "metadata": {},
     "output_type": "execute_result"
    }
   ],
   "source": [
    "X.shape, y.shape"
   ]
  },
  {
   "cell_type": "code",
   "execution_count": 12,
   "metadata": {},
   "outputs": [],
   "source": [
    "train_share = 0.7\n",
    "train_size = int(train_share * X.shape[0])\n",
    "\n",
    "X_train, X_valid = X.iloc[:train_size, :], X.iloc[train_size:, :]\n",
    "y_train, y_valid = y.iloc[:train_size], y.iloc[train_size:]"
   ]
  },
  {
   "cell_type": "code",
   "execution_count": 13,
   "metadata": {},
   "outputs": [
    {
     "data": {
      "text/plain": [
       "(0.0763147680962546, 0.06944409068654503)"
      ]
     },
     "execution_count": 13,
     "metadata": {},
     "output_type": "execute_result"
    }
   ],
   "source": [
    "y_train.mean(), y_valid.mean()"
   ]
  },
  {
   "cell_type": "code",
   "execution_count": 14,
   "metadata": {},
   "outputs": [],
   "source": [
    "from sklearn.ensemble import RandomForestClassifier\n",
    "from sklearn.linear_model import LogisticRegression"
   ]
  },
  {
   "cell_type": "code",
   "execution_count": 15,
   "metadata": {},
   "outputs": [],
   "source": [
    "forest = RandomForestClassifier(n_estimators=300, class_weight='balanced',\n",
    "                                n_jobs=4, random_state=17)"
   ]
  },
  {
   "cell_type": "code",
   "execution_count": 16,
   "metadata": {},
   "outputs": [
    {
     "name": "stdout",
     "output_type": "stream",
     "text": [
      "CPU times: user 11min 15s, sys: 3min 49s, total: 15min 5s\n",
      "Wall time: 2min 6s\n"
     ]
    },
    {
     "data": {
      "text/plain": [
       "RandomForestClassifier(bootstrap=True, class_weight='balanced',\n",
       "            criterion='gini', max_depth=None, max_features='auto',\n",
       "            max_leaf_nodes=None, min_impurity_decrease=0.0,\n",
       "            min_impurity_split=None, min_samples_leaf=1,\n",
       "            min_samples_split=2, min_weight_fraction_leaf=0.0,\n",
       "            n_estimators=300, n_jobs=4, oob_score=False, random_state=17,\n",
       "            verbose=0, warm_start=False)"
      ]
     },
     "execution_count": 16,
     "metadata": {},
     "output_type": "execute_result"
    }
   ],
   "source": [
    "%%time\n",
    "forest.fit(X_train, y_train)"
   ]
  },
  {
   "cell_type": "code",
   "execution_count": 17,
   "metadata": {},
   "outputs": [],
   "source": [
    "forest_pred_probs = forest.predict_proba(X_valid)[:, 1]"
   ]
  },
  {
   "cell_type": "code",
   "execution_count": 18,
   "metadata": {},
   "outputs": [],
   "source": [
    "from sklearn.metrics import accuracy_score, precision_score, recall_score\n",
    "from sklearn.metrics import roc_auc_score"
   ]
  },
  {
   "cell_type": "markdown",
   "metadata": {},
   "source": [
    "**Is that good?**"
   ]
  },
  {
   "cell_type": "code",
   "execution_count": 19,
   "metadata": {},
   "outputs": [
    {
     "data": {
      "text/plain": [
       "0.9647325914788966"
      ]
     },
     "execution_count": 19,
     "metadata": {},
     "output_type": "execute_result"
    }
   ],
   "source": [
    "roc_auc_score(y_valid, forest_pred_probs)"
   ]
  },
  {
   "cell_type": "markdown",
   "metadata": {},
   "source": [
    "**Accuracy can be misleading**"
   ]
  },
  {
   "cell_type": "markdown",
   "metadata": {},
   "source": [
    "*Baseline*"
   ]
  },
  {
   "cell_type": "code",
   "execution_count": 20,
   "metadata": {},
   "outputs": [
    {
     "data": {
      "text/plain": [
       "0.9879156301560214"
      ]
     },
     "execution_count": 20,
     "metadata": {},
     "output_type": "execute_result"
    }
   ],
   "source": [
    "accuracy_score(y_valid, X_valid['sum_payments8'] > 0)"
   ]
  },
  {
   "cell_type": "code",
   "execution_count": 21,
   "metadata": {},
   "outputs": [
    {
     "data": {
      "text/plain": [
       "0.9857364814956318"
      ]
     },
     "execution_count": 21,
     "metadata": {},
     "output_type": "execute_result"
    }
   ],
   "source": [
    "accuracy_score(y_valid, forest_pred_probs > 0.5)"
   ]
  },
  {
   "cell_type": "code",
   "execution_count": 22,
   "metadata": {},
   "outputs": [
    {
     "data": {
      "text/plain": [
       "(353349,)"
      ]
     },
     "execution_count": 22,
     "metadata": {},
     "output_type": "execute_result"
    }
   ],
   "source": [
    "y_valid.shape"
   ]
  },
  {
   "cell_type": "code",
   "execution_count": 23,
   "metadata": {},
   "outputs": [],
   "source": [
    "pred_df = pd.DataFrame({'true': y_valid, 'pred_forest': forest_pred_probs, \n",
    "             'pred_baseline': (X_valid['sum_payments8'] > 0).astype('int')})"
   ]
  },
  {
   "cell_type": "code",
   "execution_count": 24,
   "metadata": {},
   "outputs": [
    {
     "data": {
      "text/html": [
       "<div>\n",
       "<style scoped>\n",
       "    .dataframe tbody tr th:only-of-type {\n",
       "        vertical-align: middle;\n",
       "    }\n",
       "\n",
       "    .dataframe tbody tr th {\n",
       "        vertical-align: top;\n",
       "    }\n",
       "\n",
       "    .dataframe thead th {\n",
       "        text-align: right;\n",
       "    }\n",
       "</style>\n",
       "<table border=\"1\" class=\"dataframe\">\n",
       "  <thead>\n",
       "    <tr style=\"text-align: right;\">\n",
       "      <th></th>\n",
       "      <th>true</th>\n",
       "      <th>pred_forest</th>\n",
       "      <th>pred_baseline</th>\n",
       "    </tr>\n",
       "  </thead>\n",
       "  <tbody>\n",
       "    <tr>\n",
       "      <th>12595</th>\n",
       "      <td>1</td>\n",
       "      <td>1.0</td>\n",
       "      <td>1</td>\n",
       "    </tr>\n",
       "    <tr>\n",
       "      <th>76749</th>\n",
       "      <td>1</td>\n",
       "      <td>1.0</td>\n",
       "      <td>1</td>\n",
       "    </tr>\n",
       "    <tr>\n",
       "      <th>18479</th>\n",
       "      <td>1</td>\n",
       "      <td>1.0</td>\n",
       "      <td>1</td>\n",
       "    </tr>\n",
       "    <tr>\n",
       "      <th>45273</th>\n",
       "      <td>1</td>\n",
       "      <td>1.0</td>\n",
       "      <td>1</td>\n",
       "    </tr>\n",
       "    <tr>\n",
       "      <th>43080</th>\n",
       "      <td>1</td>\n",
       "      <td>1.0</td>\n",
       "      <td>1</td>\n",
       "    </tr>\n",
       "  </tbody>\n",
       "</table>\n",
       "</div>"
      ],
      "text/plain": [
       "       true  pred_forest  pred_baseline\n",
       "12595     1          1.0              1\n",
       "76749     1          1.0              1\n",
       "18479     1          1.0              1\n",
       "45273     1          1.0              1\n",
       "43080     1          1.0              1"
      ]
     },
     "execution_count": 24,
     "metadata": {},
     "output_type": "execute_result"
    }
   ],
   "source": [
    "pred_df.sort_values(by='pred_forest', ascending=False, inplace=True)\n",
    "pred_df.head()"
   ]
  },
  {
   "cell_type": "code",
   "execution_count": 25,
   "metadata": {},
   "outputs": [
    {
     "data": {
      "text/plain": [
       "6.29340805933654"
      ]
     },
     "execution_count": 25,
     "metadata": {},
     "output_type": "execute_result"
    }
   ],
   "source": [
    "pred_df.iloc[:50000]['true'].mean() / y_valid.mean()"
   ]
  },
  {
   "cell_type": "code",
   "execution_count": 26,
   "metadata": {},
   "outputs": [
    {
     "data": {
      "text/plain": [
       "5.8703339041486675"
      ]
     },
     "execution_count": 26,
     "metadata": {},
     "output_type": "execute_result"
    }
   ],
   "source": [
    "pred_df.sort_values(by='pred_baseline', \n",
    "                    ascending=False).iloc[:50000]['true'].mean() / y_valid.mean()"
   ]
  },
  {
   "cell_type": "markdown",
   "metadata": {},
   "source": [
    "**Precision/recall**"
   ]
  },
  {
   "cell_type": "code",
   "execution_count": 27,
   "metadata": {},
   "outputs": [
    {
     "data": {
      "text/plain": [
       "(0.9615129710282143, 1.0)"
      ]
     },
     "execution_count": 27,
     "metadata": {},
     "output_type": "execute_result"
    }
   ],
   "source": [
    "precision_score(y_valid, forest_pred_probs > 0.5), \\\n",
    "    precision_score(y_valid, X_valid['sum_payments8'] > 0),"
   ]
  },
  {
   "cell_type": "code",
   "execution_count": 28,
   "metadata": {},
   "outputs": [
    {
     "data": {
      "text/plain": [
       "(0.8277365718477464, 0.825984187790366)"
      ]
     },
     "execution_count": 28,
     "metadata": {},
     "output_type": "execute_result"
    }
   ],
   "source": [
    "recall_score(y_valid, forest_pred_probs > 0.5), \\\n",
    "    recall_score(y_valid, X_valid['sum_payments8'] > 0),"
   ]
  },
  {
   "cell_type": "code",
   "execution_count": 29,
   "metadata": {},
   "outputs": [],
   "source": [
    "from sklearn.metrics import f1_score"
   ]
  },
  {
   "cell_type": "code",
   "execution_count": 30,
   "metadata": {},
   "outputs": [
    {
     "data": {
      "text/plain": [
       "(0.8896237571722657, 0.904700263357586)"
      ]
     },
     "execution_count": 30,
     "metadata": {},
     "output_type": "execute_result"
    }
   ],
   "source": [
    "f1_score(y_valid, forest_pred_probs > 0.5), \\\n",
    "    f1_score(y_valid, X_valid['sum_payments8'] > 0),"
   ]
  },
  {
   "cell_type": "code",
   "execution_count": 31,
   "metadata": {},
   "outputs": [
    {
     "data": {
      "image/png": "[encoded data removed]",
      "text/plain": [
       "<Figure size 432x288 with 1 Axes>"
      ]
     },
     "metadata": {
      "needs_background": "light"
     },
     "output_type": "display_data"
    }
   ],
   "source": [
    "from sklearn.metrics import precision_recall_curve\n",
    "from sklearn.utils.fixes import signature\n",
    "\n",
    "precision, recall, thres = precision_recall_curve(y_valid, forest_pred_probs)\n",
    "    \n",
    "step_kwargs = ({'step': 'post'}\n",
    "               if 'step' in signature(plt.fill_between).parameters\n",
    "               else {})\n",
    "plt.step(recall, precision, color='b', alpha=0.2,\n",
    "         where='post')\n",
    "plt.fill_between(recall, precision, alpha=0.2, color='b', **step_kwargs)\n",
    "\n",
    "plt.xlabel('Recall')\n",
    "plt.ylabel('Precision')\n",
    "plt.ylim([0.0, 1.05])\n",
    "plt.hlines(y=0.5, xmin=0, xmax=1)\n",
    "plt.xlim([0.0, 1.0])\n",
    "plt.title('2-class Precision-Recall curve: Random Forest');"
   ]
  },
  {
   "cell_type": "code",
   "execution_count": 32,
   "metadata": {},
   "outputs": [
    {
     "data": {
      "text/plain": [
       "(0.08408178268498546, 0.9881408427744722)"
      ]
     },
     "execution_count": 32,
     "metadata": {},
     "output_type": "execute_result"
    }
   ],
   "source": [
    "tau = 0\n",
    "precision_score(y_valid, forest_pred_probs > tau), \\\n",
    "recall_score(y_valid, forest_pred_probs > tau)"
   ]
  },
  {
   "cell_type": "code",
   "execution_count": 33,
   "metadata": {},
   "outputs": [
    {
     "data": {
      "image/png": "[encoded data removed]",
      "text/plain": [
       "<Figure size 432x288 with 1 Axes>"
      ]
     },
     "metadata": {
      "needs_background": "light"
     },
     "output_type": "display_data"
    }
   ],
   "source": [
    "plt.plot(thres, precision[:-1], label='precision')\n",
    "plt.plot(thres, recall[:-1], label='recall');\n",
    "plt.hlines(y=0.5, xmin=0, xmax=1, label='min. precision', linestyles='dashed')\n",
    "plt.vlines(x=0.194, ymin=0, ymax=1, color='red', label='opt. threshold', linestyles='dashed')\n",
    "plt.legend();\n",
    "plt.xlabel('threshold')\n",
    "plt.ylabel('metric');"
   ]
  },
  {
   "cell_type": "code",
   "execution_count": 34,
   "metadata": {},
   "outputs": [
    {
     "data": {
      "text/plain": [
       "(0.501787646422355, 0.8693862580487407)"
      ]
     },
     "execution_count": 34,
     "metadata": {},
     "output_type": "execute_result"
    }
   ],
   "source": [
    "precision_score(y_valid, forest_pred_probs > 0.194), \\\n",
    "    recall_score(y_valid, forest_pred_probs > 0.194)"
   ]
  },
  {
   "cell_type": "code",
   "execution_count": 35,
   "metadata": {},
   "outputs": [
    {
     "data": {
      "text/plain": [
       "(1.0, 0.825984187790366)"
      ]
     },
     "execution_count": 35,
     "metadata": {},
     "output_type": "execute_result"
    }
   ],
   "source": [
    "precision_score(y_valid, X_valid['sum_payments8'] > 0),\\\n",
    "recall_score(y_valid, X_valid['sum_payments8'] > 0),"
   ]
  },
  {
   "cell_type": "code",
   "execution_count": 36,
   "metadata": {},
   "outputs": [
    {
     "data": {
      "image/png": "[encoded data removed]",
      "text/plain": [
       "<Figure size 432x288 with 1 Axes>"
      ]
     },
     "metadata": {
      "needs_background": "light"
     },
     "output_type": "display_data"
    }
   ],
   "source": [
    "plt.hist(forest_pred_probs);"
   ]
  },
  {
   "cell_type": "markdown",
   "metadata": {},
   "source": [
    "**Feature importance**"
   ]
  },
  {
   "cell_type": "code",
   "execution_count": 37,
   "metadata": {},
   "outputs": [
    {
     "data": {
      "text/html": [
       "<div>\n",
       "<style scoped>\n",
       "    .dataframe tbody tr th:only-of-type {\n",
       "        vertical-align: middle;\n",
       "    }\n",
       "\n",
       "    .dataframe tbody tr th {\n",
       "        vertical-align: top;\n",
       "    }\n",
       "\n",
       "    .dataframe thead th {\n",
       "        text-align: right;\n",
       "    }\n",
       "</style>\n",
       "<table border=\"1\" class=\"dataframe\">\n",
       "  <thead>\n",
       "    <tr style=\"text-align: right;\">\n",
       "      <th></th>\n",
       "      <th>importance</th>\n",
       "    </tr>\n",
       "  </thead>\n",
       "  <tbody>\n",
       "    <tr>\n",
       "      <th>num_payments8</th>\n",
       "      <td>0.120221</td>\n",
       "    </tr>\n",
       "    <tr>\n",
       "      <th>sum_payments8</th>\n",
       "      <td>0.117659</td>\n",
       "    </tr>\n",
       "    <tr>\n",
       "      <th>sum_payments7</th>\n",
       "      <td>0.074976</td>\n",
       "    </tr>\n",
       "    <tr>\n",
       "      <th>num_payments7</th>\n",
       "      <td>0.072070</td>\n",
       "    </tr>\n",
       "    <tr>\n",
       "      <th>num_payments6</th>\n",
       "      <td>0.063004</td>\n",
       "    </tr>\n",
       "    <tr>\n",
       "      <th>sum_payments6</th>\n",
       "      <td>0.042955</td>\n",
       "    </tr>\n",
       "    <tr>\n",
       "      <th>sessions8</th>\n",
       "      <td>0.040348</td>\n",
       "    </tr>\n",
       "    <tr>\n",
       "      <th>launches8</th>\n",
       "      <td>0.039541</td>\n",
       "    </tr>\n",
       "    <tr>\n",
       "      <th>sum_payments5</th>\n",
       "      <td>0.036355</td>\n",
       "    </tr>\n",
       "    <tr>\n",
       "      <th>num_payments5</th>\n",
       "      <td>0.033727</td>\n",
       "    </tr>\n",
       "    <tr>\n",
       "      <th>launches7</th>\n",
       "      <td>0.029709</td>\n",
       "    </tr>\n",
       "    <tr>\n",
       "      <th>num_payments4</th>\n",
       "      <td>0.026169</td>\n",
       "    </tr>\n",
       "    <tr>\n",
       "      <th>sessions7</th>\n",
       "      <td>0.025766</td>\n",
       "    </tr>\n",
       "    <tr>\n",
       "      <th>launches6</th>\n",
       "      <td>0.022012</td>\n",
       "    </tr>\n",
       "    <tr>\n",
       "      <th>sessions6</th>\n",
       "      <td>0.021288</td>\n",
       "    </tr>\n",
       "    <tr>\n",
       "      <th>num_payments3</th>\n",
       "      <td>0.020429</td>\n",
       "    </tr>\n",
       "    <tr>\n",
       "      <th>sum_payments4</th>\n",
       "      <td>0.020228</td>\n",
       "    </tr>\n",
       "    <tr>\n",
       "      <th>launches5</th>\n",
       "      <td>0.018394</td>\n",
       "    </tr>\n",
       "    <tr>\n",
       "      <th>launches4</th>\n",
       "      <td>0.017349</td>\n",
       "    </tr>\n",
       "    <tr>\n",
       "      <th>sessions5</th>\n",
       "      <td>0.017052</td>\n",
       "    </tr>\n",
       "    <tr>\n",
       "      <th>launches2</th>\n",
       "      <td>0.015732</td>\n",
       "    </tr>\n",
       "    <tr>\n",
       "      <th>launches3</th>\n",
       "      <td>0.015663</td>\n",
       "    </tr>\n",
       "    <tr>\n",
       "      <th>sessions4</th>\n",
       "      <td>0.015417</td>\n",
       "    </tr>\n",
       "    <tr>\n",
       "      <th>sessions3</th>\n",
       "      <td>0.014381</td>\n",
       "    </tr>\n",
       "    <tr>\n",
       "      <th>sessions2</th>\n",
       "      <td>0.014221</td>\n",
       "    </tr>\n",
       "    <tr>\n",
       "      <th>launches1</th>\n",
       "      <td>0.013273</td>\n",
       "    </tr>\n",
       "    <tr>\n",
       "      <th>sessions1</th>\n",
       "      <td>0.013012</td>\n",
       "    </tr>\n",
       "    <tr>\n",
       "      <th>sum_payments3</th>\n",
       "      <td>0.012059</td>\n",
       "    </tr>\n",
       "    <tr>\n",
       "      <th>num_payments2</th>\n",
       "      <td>0.012026</td>\n",
       "    </tr>\n",
       "    <tr>\n",
       "      <th>sum_payments2</th>\n",
       "      <td>0.007296</td>\n",
       "    </tr>\n",
       "    <tr>\n",
       "      <th>num_payments1</th>\n",
       "      <td>0.004784</td>\n",
       "    </tr>\n",
       "    <tr>\n",
       "      <th>sum_payments1</th>\n",
       "      <td>0.002883</td>\n",
       "    </tr>\n",
       "  </tbody>\n",
       "</table>\n",
       "</div>"
      ],
      "text/plain": [
       "               importance\n",
       "num_payments8    0.120221\n",
       "sum_payments8    0.117659\n",
       "sum_payments7    0.074976\n",
       "num_payments7    0.072070\n",
       "num_payments6    0.063004\n",
       "sum_payments6    0.042955\n",
       "sessions8        0.040348\n",
       "launches8        0.039541\n",
       "sum_payments5    0.036355\n",
       "num_payments5    0.033727\n",
       "launches7        0.029709\n",
       "num_payments4    0.026169\n",
       "sessions7        0.025766\n",
       "launches6        0.022012\n",
       "sessions6        0.021288\n",
       "num_payments3    0.020429\n",
       "sum_payments4    0.020228\n",
       "launches5        0.018394\n",
       "launches4        0.017349\n",
       "sessions5        0.017052\n",
       "launches2        0.015732\n",
       "launches3        0.015663\n",
       "sessions4        0.015417\n",
       "sessions3        0.014381\n",
       "sessions2        0.014221\n",
       "launches1        0.013273\n",
       "sessions1        0.013012\n",
       "sum_payments3    0.012059\n",
       "num_payments2    0.012026\n",
       "sum_payments2    0.007296\n",
       "num_payments1    0.004784\n",
       "sum_payments1    0.002883"
      ]
     },
     "execution_count": 37,
     "metadata": {},
     "output_type": "execute_result"
    }
   ],
   "source": [
    "pd.DataFrame(forest.feature_importances_, index=X.columns,\n",
    "             columns=['importance']).sort_values(by='importance',\n",
    "                                                ascending=False)"
   ]
  },
  {
   "cell_type": "code",
   "execution_count": 38,
   "metadata": {},
   "outputs": [],
   "source": [
    "from sklearn.metrics import confusion_matrix"
   ]
  },
  {
   "cell_type": "code",
   "execution_count": 39,
   "metadata": {},
   "outputs": [],
   "source": [
    "def plot_confusion_matrix(actual, predicted, classes,\n",
    "                          normalize=False,\n",
    "                          title='Confusion matrix', figsize=(7,7),\n",
    "                          cmap=plt.cm.Blues, path_to_save_fig=None):\n",
    "    \"\"\"\n",
    "    This function prints and plots the confusion matrix.\n",
    "    Normalization can be applied by setting `normalize=True`.\n",
    "    \"\"\"\n",
    "    cm = confusion_matrix(actual, predicted).T\n",
    "    if normalize:\n",
    "        cm = cm.astype('float') / cm.sum(axis=1)[:, np.newaxis]\n",
    "    \n",
    "    plt.figure(figsize=figsize)\n",
    "    plt.imshow(cm, interpolation='nearest', cmap=cmap)\n",
    "    plt.title(title)\n",
    "    plt.colorbar()\n",
    "    tick_marks = np.arange(len(classes))\n",
    "    plt.xticks(tick_marks, classes, rotation=90)\n",
    "    plt.yticks(tick_marks, classes)\n",
    "\n",
    "    fmt = '.2f' if normalize else 'd'\n",
    "    thresh = cm.max() / 2.\n",
    "    for i, j in itertools.product(range(cm.shape[0]), range(cm.shape[1])):\n",
    "        plt.text(j, i, format(cm[i, j], fmt),\n",
    "                 horizontalalignment=\"center\",\n",
    "                 color=\"white\" if cm[i, j] > thresh else \"black\")\n",
    "\n",
    "    plt.tight_layout()\n",
    "    plt.ylabel('Predicted label')\n",
    "    plt.xlabel('True label')\n",
    "    \n",
    "    if path_to_save_fig:\n",
    "        plt.savefig(path_to_save_fig, dpi=300, bbox_inches='tight')"
   ]
  },
  {
   "cell_type": "code",
   "execution_count": 40,
   "metadata": {},
   "outputs": [
    {
     "data": {
      "image/png": "[encoded data removed]",
      "text/plain": [
       "<Figure size 504x504 with 2 Axes>"
      ]
     },
     "metadata": {
      "needs_background": "light"
     },
     "output_type": "display_data"
    }
   ],
   "source": [
    "plot_confusion_matrix(actual=y_valid, predicted=X_valid['sum_payments8'] > 0,\n",
    "                     classes=forest.classes_)"
   ]
  },
  {
   "cell_type": "code",
   "execution_count": 41,
   "metadata": {},
   "outputs": [
    {
     "data": {
      "image/png": "[encoded data removed]",
      "text/plain": [
       "<Figure size 504x504 with 2 Axes>"
      ]
     },
     "metadata": {
      "needs_background": "light"
     },
     "output_type": "display_data"
    }
   ],
   "source": [
    "plot_confusion_matrix(actual=y_valid, predicted=(forest_pred_probs > 0.5),\n",
    "                     classes=forest.classes_)"
   ]
  },
  {
   "cell_type": "code",
   "execution_count": 42,
   "metadata": {},
   "outputs": [
    {
     "data": {
      "image/png": "[encoded data removed]",
      "text/plain": [
       "<Figure size 504x504 with 2 Axes>"
      ]
     },
     "metadata": {
      "needs_background": "light"
     },
     "output_type": "display_data"
    }
   ],
   "source": [
    "plot_confusion_matrix(actual=y_valid, predicted=(forest_pred_probs > 0.194),\n",
    "                     classes=forest.classes_)"
   ]
  },
  {
   "cell_type": "markdown",
   "metadata": {},
   "source": [
    "## Logistic regression"
   ]
  },
  {
   "cell_type": "code",
   "execution_count": 43,
   "metadata": {},
   "outputs": [],
   "source": [
    "from sklearn.preprocessing import StandardScaler"
   ]
  },
  {
   "cell_type": "code",
   "execution_count": 44,
   "metadata": {},
   "outputs": [],
   "source": [
    "logit = LogisticRegression(n_jobs=4, random_state=17, \n",
    "                           class_weight='balanced', solver='sag')"
   ]
  },
  {
   "cell_type": "code",
   "execution_count": 45,
   "metadata": {},
   "outputs": [],
   "source": [
    "scaler = StandardScaler()"
   ]
  },
  {
   "cell_type": "code",
   "execution_count": 46,
   "metadata": {},
   "outputs": [
    {
     "name": "stderr",
     "output_type": "stream",
     "text": [
      "/home/yorko/anaconda3/lib/python3.7/site-packages/sklearn/preprocessing/data.py:617: DataConversionWarning: Data with input dtype int64 were all converted to float64 by StandardScaler.\n",
      "  return self.partial_fit(X, y)\n",
      "/home/yorko/anaconda3/lib/python3.7/site-packages/sklearn/base.py:462: DataConversionWarning: Data with input dtype int64 were all converted to float64 by StandardScaler.\n",
      "  return self.fit(X, **fit_params).transform(X)\n",
      "/home/yorko/anaconda3/lib/python3.7/site-packages/ipykernel_launcher.py:2: DataConversionWarning: Data with input dtype int64 were all converted to float64 by StandardScaler.\n",
      "  \n"
     ]
    }
   ],
   "source": [
    "X_train_scaled = scaler.fit_transform(X_train)\n",
    "X_valid_scaled = scaler.transform(X_valid)"
   ]
  },
  {
   "cell_type": "code",
   "execution_count": 47,
   "metadata": {},
   "outputs": [
    {
     "name": "stdout",
     "output_type": "stream",
     "text": [
      "CPU times: user 1min, sys: 150 ms, total: 1min\n",
      "Wall time: 57.2 s\n"
     ]
    },
    {
     "name": "stderr",
     "output_type": "stream",
     "text": [
      "/home/yorko/anaconda3/lib/python3.7/site-packages/sklearn/linear_model/sag.py:334: ConvergenceWarning: The max_iter was reached which means the coef_ did not converge\n",
      "  \"the coef_ did not converge\", ConvergenceWarning)\n"
     ]
    },
    {
     "data": {
      "text/plain": [
       "LogisticRegression(C=1.0, class_weight='balanced', dual=False,\n",
       "          fit_intercept=True, intercept_scaling=1, max_iter=100,\n",
       "          multi_class='warn', n_jobs=4, penalty='l2', random_state=17,\n",
       "          solver='sag', tol=0.0001, verbose=0, warm_start=False)"
      ]
     },
     "execution_count": 47,
     "metadata": {},
     "output_type": "execute_result"
    }
   ],
   "source": [
    "%%time\n",
    "logit.fit(X_train_scaled, y_train)"
   ]
  },
  {
   "cell_type": "code",
   "execution_count": 48,
   "metadata": {},
   "outputs": [],
   "source": [
    "logit_pred_probs = logit.predict_proba(X_valid_scaled)[:, 1]"
   ]
  },
  {
   "cell_type": "code",
   "execution_count": 49,
   "metadata": {},
   "outputs": [
    {
     "data": {
      "image/png": "[encoded data removed]",
      "text/plain": [
       "<Figure size 432x288 with 1 Axes>"
      ]
     },
     "metadata": {
      "needs_background": "light"
     },
     "output_type": "display_data"
    }
   ],
   "source": [
    "plt.hist(logit_pred_probs);"
   ]
  },
  {
   "cell_type": "markdown",
   "metadata": {},
   "source": [
    "**Is that good?**"
   ]
  },
  {
   "cell_type": "code",
   "execution_count": 50,
   "metadata": {},
   "outputs": [
    {
     "data": {
      "text/plain": [
       "0.9764940094392004"
      ]
     },
     "execution_count": 50,
     "metadata": {},
     "output_type": "execute_result"
    }
   ],
   "source": [
    "roc_auc_score(y_valid, logit_pred_probs)"
   ]
  },
  {
   "cell_type": "markdown",
   "metadata": {},
   "source": [
    "**Accuracy can be misleading**"
   ]
  },
  {
   "cell_type": "markdown",
   "metadata": {},
   "source": [
    "*Baseline*"
   ]
  },
  {
   "cell_type": "code",
   "execution_count": 51,
   "metadata": {},
   "outputs": [
    {
     "data": {
      "text/plain": [
       "0.9879156301560214"
      ]
     },
     "execution_count": 51,
     "metadata": {},
     "output_type": "execute_result"
    }
   ],
   "source": [
    "accuracy_score(y_valid, X_valid['sum_payments8'] > 0)"
   ]
  },
  {
   "cell_type": "code",
   "execution_count": 52,
   "metadata": {},
   "outputs": [
    {
     "data": {
      "text/plain": [
       "0.9642449815904389"
      ]
     },
     "execution_count": 52,
     "metadata": {},
     "output_type": "execute_result"
    }
   ],
   "source": [
    "accuracy_score(y_valid, logit_pred_probs > 0.5)"
   ]
  },
  {
   "cell_type": "code",
   "execution_count": 53,
   "metadata": {},
   "outputs": [],
   "source": [
    "pred_df = pd.DataFrame({'true': y_valid, 'pred_logit': logit_pred_probs, \n",
    "             'pred_baseline': (X_valid['sum_payments8'] > 0).astype('int')})"
   ]
  },
  {
   "cell_type": "code",
   "execution_count": 54,
   "metadata": {},
   "outputs": [
    {
     "data": {
      "text/html": [
       "<div>\n",
       "<style scoped>\n",
       "    .dataframe tbody tr th:only-of-type {\n",
       "        vertical-align: middle;\n",
       "    }\n",
       "\n",
       "    .dataframe tbody tr th {\n",
       "        vertical-align: top;\n",
       "    }\n",
       "\n",
       "    .dataframe thead th {\n",
       "        text-align: right;\n",
       "    }\n",
       "</style>\n",
       "<table border=\"1\" class=\"dataframe\">\n",
       "  <thead>\n",
       "    <tr style=\"text-align: right;\">\n",
       "      <th></th>\n",
       "      <th>true</th>\n",
       "      <th>pred_logit</th>\n",
       "      <th>pred_baseline</th>\n",
       "    </tr>\n",
       "  </thead>\n",
       "  <tbody>\n",
       "    <tr>\n",
       "      <th>62466</th>\n",
       "      <td>1</td>\n",
       "      <td>1.0</td>\n",
       "      <td>1</td>\n",
       "    </tr>\n",
       "    <tr>\n",
       "      <th>10587</th>\n",
       "      <td>1</td>\n",
       "      <td>1.0</td>\n",
       "      <td>1</td>\n",
       "    </tr>\n",
       "    <tr>\n",
       "      <th>32466</th>\n",
       "      <td>1</td>\n",
       "      <td>1.0</td>\n",
       "      <td>1</td>\n",
       "    </tr>\n",
       "    <tr>\n",
       "      <th>52663</th>\n",
       "      <td>1</td>\n",
       "      <td>1.0</td>\n",
       "      <td>1</td>\n",
       "    </tr>\n",
       "    <tr>\n",
       "      <th>52996</th>\n",
       "      <td>1</td>\n",
       "      <td>1.0</td>\n",
       "      <td>1</td>\n",
       "    </tr>\n",
       "  </tbody>\n",
       "</table>\n",
       "</div>"
      ],
      "text/plain": [
       "       true  pred_logit  pred_baseline\n",
       "62466     1         1.0              1\n",
       "10587     1         1.0              1\n",
       "32466     1         1.0              1\n",
       "52663     1         1.0              1\n",
       "52996     1         1.0              1"
      ]
     },
     "execution_count": 54,
     "metadata": {},
     "output_type": "execute_result"
    }
   ],
   "source": [
    "pred_df.sort_values(by='pred_logit', ascending=False, inplace=True)\n",
    "pred_df.head()"
   ]
  },
  {
   "cell_type": "code",
   "execution_count": 55,
   "metadata": {},
   "outputs": [
    {
     "data": {
      "text/plain": [
       "6.4604489102616345"
      ]
     },
     "execution_count": 55,
     "metadata": {},
     "output_type": "execute_result"
    }
   ],
   "source": [
    "pred_df.iloc[:50000]['true'].mean() / y_valid.mean()"
   ]
  },
  {
   "cell_type": "code",
   "execution_count": 56,
   "metadata": {},
   "outputs": [
    {
     "data": {
      "text/plain": [
       "5.840669753036107"
      ]
     },
     "execution_count": 56,
     "metadata": {},
     "output_type": "execute_result"
    }
   ],
   "source": [
    "pred_df.sort_values(by='pred_baseline', \n",
    "                    ascending=False).iloc[:50000]['true'].mean() / y_valid.mean()"
   ]
  },
  {
   "cell_type": "markdown",
   "metadata": {},
   "source": [
    "**Precision/recall**"
   ]
  },
  {
   "cell_type": "code",
   "execution_count": 57,
   "metadata": {},
   "outputs": [
    {
     "data": {
      "image/png": "[encoded data removed]",
      "text/plain": [
       "<Figure size 432x288 with 1 Axes>"
      ]
     },
     "metadata": {
      "needs_background": "light"
     },
     "output_type": "display_data"
    }
   ],
   "source": [
    "precision, recall, thres = precision_recall_curve(y_valid, logit_pred_probs)\n",
    "    \n",
    "step_kwargs = ({'step': 'post'}\n",
    "               if 'step' in signature(plt.fill_between).parameters\n",
    "               else {})\n",
    "plt.step(recall, precision, color='b', alpha=0.2,\n",
    "         where='post')\n",
    "plt.fill_between(recall, precision, alpha=0.2, color='b', **step_kwargs)\n",
    "\n",
    "plt.xlabel('Recall')\n",
    "plt.ylabel('Precision')\n",
    "plt.ylim([0.0, 1.05])\n",
    "plt.hlines(y=0.5, xmin=0, xmax=1)\n",
    "plt.xlim([0.0, 1.0])\n",
    "plt.title('2-class Precision-Recall curve: Logit');"
   ]
  },
  {
   "cell_type": "code",
   "execution_count": 58,
   "metadata": {},
   "outputs": [
    {
     "data": {
      "image/png": "[encoded data removed]",
      "text/plain": [
       "<Figure size 432x288 with 1 Axes>"
      ]
     },
     "metadata": {
      "needs_background": "light"
     },
     "output_type": "display_data"
    }
   ],
   "source": [
    "plt.plot(thres, precision[:-1], label='precision')\n",
    "plt.plot(thres, recall[:-1], label='recall');\n",
    "plt.hlines(y=0.5, xmin=0, xmax=1, label='min. precision', linestyles='dashed')\n",
    "plt.vlines(x=0.29, ymin=0, ymax=1, color='red', label='opt. threshold', linestyles='dashed')\n",
    "plt.legend();\n",
    "plt.xlabel('threshold')\n",
    "plt.ylabel('metric');"
   ]
  },
  {
   "cell_type": "code",
   "execution_count": 59,
   "metadata": {},
   "outputs": [
    {
     "data": {
      "text/plain": [
       "(0.5012316662523447, 0.9038633955497596)"
      ]
     },
     "execution_count": 59,
     "metadata": {},
     "output_type": "execute_result"
    }
   ],
   "source": [
    "precision_score(y_valid, logit_pred_probs > 0.29), \\\n",
    "    recall_score(y_valid, logit_pred_probs > 0.29)"
   ]
  },
  {
   "cell_type": "code",
   "execution_count": 60,
   "metadata": {},
   "outputs": [
    {
     "data": {
      "text/plain": [
       "(1.0, 0.825984187790366)"
      ]
     },
     "execution_count": 60,
     "metadata": {},
     "output_type": "execute_result"
    }
   ],
   "source": [
    "precision_score(y_valid, X_valid['sum_payments8'] > 0),\\\n",
    "recall_score(y_valid, X_valid['sum_payments8'] > 0),"
   ]
  },
  {
   "cell_type": "code",
   "execution_count": 61,
   "metadata": {},
   "outputs": [
    {
     "data": {
      "image/png": "[encoded data removed]",
      "text/plain": [
       "<Figure size 432x288 with 1 Axes>"
      ]
     },
     "metadata": {
      "needs_background": "light"
     },
     "output_type": "display_data"
    }
   ],
   "source": [
    "plt.hist(logit_pred_probs);"
   ]
  },
  {
   "cell_type": "markdown",
   "metadata": {},
   "source": [
    "**Logistic regression worked better for us. Cool! We'll stick to this model. Also, logit will work better in case of sparse features.**"
   ]
  },
  {
   "cell_type": "markdown",
   "metadata": {},
   "source": [
    "**Now let's take a look at coefficients**"
   ]
  },
  {
   "cell_type": "code",
   "execution_count": 62,
   "metadata": {},
   "outputs": [
    {
     "data": {
      "text/html": [
       "<div>\n",
       "<style scoped>\n",
       "    .dataframe tbody tr th:only-of-type {\n",
       "        vertical-align: middle;\n",
       "    }\n",
       "\n",
       "    .dataframe tbody tr th {\n",
       "        vertical-align: top;\n",
       "    }\n",
       "\n",
       "    .dataframe thead th {\n",
       "        text-align: right;\n",
       "    }\n",
       "</style>\n",
       "<table border=\"1\" class=\"dataframe\">\n",
       "  <thead>\n",
       "    <tr style=\"text-align: right;\">\n",
       "      <th></th>\n",
       "      <th>coef</th>\n",
       "    </tr>\n",
       "  </thead>\n",
       "  <tbody>\n",
       "    <tr>\n",
       "      <th>num_payments8</th>\n",
       "      <td>3.415361</td>\n",
       "    </tr>\n",
       "    <tr>\n",
       "      <th>num_payments7</th>\n",
       "      <td>2.247397</td>\n",
       "    </tr>\n",
       "    <tr>\n",
       "      <th>num_payments6</th>\n",
       "      <td>1.757264</td>\n",
       "    </tr>\n",
       "    <tr>\n",
       "      <th>sessions8</th>\n",
       "      <td>1.605800</td>\n",
       "    </tr>\n",
       "    <tr>\n",
       "      <th>num_payments5</th>\n",
       "      <td>1.471147</td>\n",
       "    </tr>\n",
       "    <tr>\n",
       "      <th>sessions1</th>\n",
       "      <td>1.445354</td>\n",
       "    </tr>\n",
       "    <tr>\n",
       "      <th>num_payments4</th>\n",
       "      <td>1.290498</td>\n",
       "    </tr>\n",
       "    <tr>\n",
       "      <th>num_payments3</th>\n",
       "      <td>1.121328</td>\n",
       "    </tr>\n",
       "    <tr>\n",
       "      <th>num_payments2</th>\n",
       "      <td>0.975069</td>\n",
       "    </tr>\n",
       "    <tr>\n",
       "      <th>sessions2</th>\n",
       "      <td>0.951102</td>\n",
       "    </tr>\n",
       "    <tr>\n",
       "      <th>sessions3</th>\n",
       "      <td>0.767048</td>\n",
       "    </tr>\n",
       "    <tr>\n",
       "      <th>num_payments1</th>\n",
       "      <td>0.734173</td>\n",
       "    </tr>\n",
       "    <tr>\n",
       "      <th>sessions4</th>\n",
       "      <td>0.631701</td>\n",
       "    </tr>\n",
       "    <tr>\n",
       "      <th>launches8</th>\n",
       "      <td>0.619196</td>\n",
       "    </tr>\n",
       "    <tr>\n",
       "      <th>sum_payments8</th>\n",
       "      <td>0.502921</td>\n",
       "    </tr>\n",
       "    <tr>\n",
       "      <th>sessions7</th>\n",
       "      <td>0.454862</td>\n",
       "    </tr>\n",
       "    <tr>\n",
       "      <th>sessions5</th>\n",
       "      <td>0.414221</td>\n",
       "    </tr>\n",
       "    <tr>\n",
       "      <th>sum_payments7</th>\n",
       "      <td>0.335237</td>\n",
       "    </tr>\n",
       "    <tr>\n",
       "      <th>sum_payments6</th>\n",
       "      <td>0.274914</td>\n",
       "    </tr>\n",
       "    <tr>\n",
       "      <th>sum_payments5</th>\n",
       "      <td>0.239663</td>\n",
       "    </tr>\n",
       "    <tr>\n",
       "      <th>sessions6</th>\n",
       "      <td>0.235645</td>\n",
       "    </tr>\n",
       "    <tr>\n",
       "      <th>sum_payments4</th>\n",
       "      <td>0.218573</td>\n",
       "    </tr>\n",
       "    <tr>\n",
       "      <th>sum_payments3</th>\n",
       "      <td>0.200893</td>\n",
       "    </tr>\n",
       "    <tr>\n",
       "      <th>sum_payments2</th>\n",
       "      <td>0.185828</td>\n",
       "    </tr>\n",
       "    <tr>\n",
       "      <th>sum_payments1</th>\n",
       "      <td>0.160779</td>\n",
       "    </tr>\n",
       "    <tr>\n",
       "      <th>launches7</th>\n",
       "      <td>-0.607430</td>\n",
       "    </tr>\n",
       "    <tr>\n",
       "      <th>launches4</th>\n",
       "      <td>-0.759867</td>\n",
       "    </tr>\n",
       "    <tr>\n",
       "      <th>launches5</th>\n",
       "      <td>-0.833693</td>\n",
       "    </tr>\n",
       "    <tr>\n",
       "      <th>launches3</th>\n",
       "      <td>-0.838969</td>\n",
       "    </tr>\n",
       "    <tr>\n",
       "      <th>launches6</th>\n",
       "      <td>-0.909838</td>\n",
       "    </tr>\n",
       "    <tr>\n",
       "      <th>launches2</th>\n",
       "      <td>-1.033129</td>\n",
       "    </tr>\n",
       "    <tr>\n",
       "      <th>launches1</th>\n",
       "      <td>-1.442990</td>\n",
       "    </tr>\n",
       "  </tbody>\n",
       "</table>\n",
       "</div>"
      ],
      "text/plain": [
       "                   coef\n",
       "num_payments8  3.415361\n",
       "num_payments7  2.247397\n",
       "num_payments6  1.757264\n",
       "sessions8      1.605800\n",
       "num_payments5  1.471147\n",
       "sessions1      1.445354\n",
       "num_payments4  1.290498\n",
       "num_payments3  1.121328\n",
       "num_payments2  0.975069\n",
       "sessions2      0.951102\n",
       "sessions3      0.767048\n",
       "num_payments1  0.734173\n",
       "sessions4      0.631701\n",
       "launches8      0.619196\n",
       "sum_payments8  0.502921\n",
       "sessions7      0.454862\n",
       "sessions5      0.414221\n",
       "sum_payments7  0.335237\n",
       "sum_payments6  0.274914\n",
       "sum_payments5  0.239663\n",
       "sessions6      0.235645\n",
       "sum_payments4  0.218573\n",
       "sum_payments3  0.200893\n",
       "sum_payments2  0.185828\n",
       "sum_payments1  0.160779\n",
       "launches7     -0.607430\n",
       "launches4     -0.759867\n",
       "launches5     -0.833693\n",
       "launches3     -0.838969\n",
       "launches6     -0.909838\n",
       "launches2     -1.033129\n",
       "launches1     -1.442990"
      ]
     },
     "execution_count": 62,
     "metadata": {},
     "output_type": "execute_result"
    }
   ],
   "source": [
    "pd.DataFrame(logit.coef_.reshape(-1, 1), index=X.columns,\n",
    "             columns=['coef']).sort_values(by='coef',\n",
    "                                                ascending=False)"
   ]
  },
  {
   "cell_type": "code",
   "execution_count": 63,
   "metadata": {},
   "outputs": [
    {
     "data": {
      "image/png": "[encoded data removed]",
      "text/plain": [
       "<Figure size 504x504 with 2 Axes>"
      ]
     },
     "metadata": {
      "needs_background": "light"
     },
     "output_type": "display_data"
    }
   ],
   "source": [
    "plot_confusion_matrix(actual=y_valid, predicted=(logit_pred_probs > 0.29),\n",
    "                     classes=logit.classes_)"
   ]
  },
  {
   "cell_type": "code",
   "execution_count": 64,
   "metadata": {},
   "outputs": [],
   "source": [
    "# import pickle"
   ]
  },
  {
   "cell_type": "code",
   "execution_count": 65,
   "metadata": {},
   "outputs": [],
   "source": [
    "# data_to_share = {'X_train': X_train,\n",
    "#                  'y_train': y_train,\n",
    "#                  'X_valid': X_valid,\n",
    "#                  'y_valid': y_valid}"
   ]
  },
  {
   "cell_type": "code",
   "execution_count": 66,
   "metadata": {},
   "outputs": [],
   "source": [
    "# with open('../../data/mobile_app_launches_sessions_payments.pkl', 'wb') as f:\n",
    "#     pickle.dump(data_to_share, f)"
   ]
  }
 ],
 "metadata": {
  "kernelspec": {
   "display_name": "Python 3",
   "language": "python",
   "name": "python3"
  },
  "language_info": {
   "codemirror_mode": {
    "name": "ipython",
    "version": 3
   },
   "file_extension": ".py",
   "mimetype": "text/x-python",
   "name": "python",
   "nbconvert_exporter": "python",
   "pygments_lexer": "ipython3",
   "version": "3.7.0"
  }
 },
 "nbformat": 4,
 "nbformat_minor": 2
}
